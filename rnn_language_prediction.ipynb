{
  "nbformat": 4,
  "nbformat_minor": 0,
  "metadata": {
    "colab": {
      "name": "Untitled4.ipynb",
      "provenance": [],
      "authorship_tag": "ABX9TyPa2cSmZQEbn9FaK59f18B7",
      "include_colab_link": true
    },
    "kernelspec": {
      "name": "python3",
      "display_name": "Python 3"
    },
    "accelerator": "GPU"
  },
  "cells": [
    {
      "cell_type": "markdown",
      "metadata": {
        "id": "view-in-github",
        "colab_type": "text"
      },
      "source": [
        "<a href=\"https://colab.research.google.com/github/KimJuHan/pytorch_tutorial/blob/master/rnn_language_prediction.ipynb\" target=\"_parent\"><img src=\"https://colab.research.google.com/assets/colab-badge.svg\" alt=\"Open In Colab\"/></a>"
      ]
    },
    {
      "cell_type": "code",
      "metadata": {
        "id": "rHakiTr3A91A",
        "colab_type": "code",
        "colab": {
          "base_uri": "https://localhost:8080/",
          "height": 128
        },
        "outputId": "09878266-3f25-4da3-9294-0c6b8371b1ee"
      },
      "source": [
        "## 파일 한 개 업로드\n",
        "# from google.colab import files\n",
        "# uploaded = files.upload()\n",
        "\n",
        "# 디렉토리 전체를 업로드 시킬 때는 구글 드라이브를 통해 마운트 시키는 것이 가장 효율적\n",
        "# 하지만, 단점으로 코랩 연결이 끊어지면 메모리에서 데이터가 날라간다. \n",
        "from google.colab import drive\n",
        "drive.mount('/content/gdrive')"
      ],
      "execution_count": 1,
      "outputs": [
        {
          "output_type": "stream",
          "text": [
            "Go to this URL in a browser: https://accounts.google.com/o/oauth2/auth?client_id=947318989803-6bn6qk8qdgf4n4g3pfee6491hc0brc4i.apps.googleusercontent.com&redirect_uri=urn%3aietf%3awg%3aoauth%3a2.0%3aoob&response_type=code&scope=email%20https%3a%2f%2fwww.googleapis.com%2fauth%2fdocs.test%20https%3a%2f%2fwww.googleapis.com%2fauth%2fdrive%20https%3a%2f%2fwww.googleapis.com%2fauth%2fdrive.photos.readonly%20https%3a%2f%2fwww.googleapis.com%2fauth%2fpeopleapi.readonly\n",
            "\n",
            "Enter your authorization code:\n",
            "··········\n",
            "Mounted at /content/gdrive\n"
          ],
          "name": "stdout"
        }
      ]
    },
    {
      "cell_type": "code",
      "metadata": {
        "id": "YmI0hNelhkED",
        "colab_type": "code",
        "colab": {
          "base_uri": "https://localhost:8080/",
          "height": 35
        },
        "outputId": "42fd4271-8d72-439b-80a3-e8e92b3df321"
      },
      "source": [
        "cd gdrive/My\\ Drive/data/names/"
      ],
      "execution_count": 2,
      "outputs": [
        {
          "output_type": "stream",
          "text": [
            "/content/gdrive/My Drive/data/names\n"
          ],
          "name": "stdout"
        }
      ]
    },
    {
      "cell_type": "code",
      "metadata": {
        "id": "0OqhHGVG79ri",
        "colab_type": "code",
        "colab": {}
      },
      "source": [
        "# 현재 경로 확인\n",
        "# gdrive/ 가 마운트된 것을 확인 할 수 있다.\n",
        "ls -al\n",
        "\n",
        "# gdrive 디렉토리로 이동\n",
        "cd gdrive/My\\ Drive/data/names/"
      ],
      "execution_count": 0,
      "outputs": []
    },
    {
      "cell_type": "code",
      "metadata": {
        "id": "bxo6tU_0Ef-X",
        "colab_type": "code",
        "colab": {
          "base_uri": "https://localhost:8080/",
          "height": 74
        },
        "outputId": "aa9430c4-c4f2-4052-f371-93453a474a74"
      },
      "source": [
        "from __future__ import print_function, unicode_literals, division\n",
        "import glob\n",
        "from io import open\n",
        "import os\n",
        "import string\n",
        "import unicodedata\n",
        "\n",
        "# 현재 디렉토리 내에 모든 파일 확인\n",
        "glob.glob('*')\n",
        "\n",
        "# 영어 + 특수문자\n",
        "all_letters = string.ascii_letters + \" .,;'\"\n",
        "\n",
        "# 유니코드 문자열을 ASCII로 변환, https://stackoverflow.com/a/518232/2809427\n",
        "def unicodeToAscii(s):\n",
        "    return ''.join(\n",
        "        c for c in unicodedata.normalize('NFD', s)\n",
        "        if unicodedata.category(c) != 'Mn'\n",
        "        and c in all_letters\n",
        "    )\n",
        "\n",
        "print(unicodeToAscii('Ślusàrski'))\n",
        "\n",
        "# 각 언어의 이름 목록인 category_lines 사전 생성\n",
        "category_lines = {}\n",
        "all_categories = []\n",
        "\n",
        "# 파일을 읽고 줄 단위로 분리\n",
        "def readLines(filename):\n",
        "  lines = open(filename, encoding='utf-8', mode='r').read().strip().split('\\n')\n",
        "  return [unicodeToAscii(line) for line in lines]\n",
        "\n",
        "for filename in glob.glob('*'):\n",
        "  category = os.path.splitext(filename)[0]\n",
        "  all_categories.append(category)\n",
        "  lines = readLines(filename)\n",
        "  category_lines[category] = lines\n",
        "\n",
        "print(all_categories)"
      ],
      "execution_count": 4,
      "outputs": [
        {
          "output_type": "stream",
          "text": [
            "Slusarski\n",
            "['Arabic', 'Dutch', 'Czech', 'French', 'Chinese', 'English', 'Irish', 'German', 'Greek', 'Italian', 'Japanese', 'Russian', 'Portuguese', 'Polish', 'Scottish', 'Korean', 'Vietnamese', 'Spanish']\n"
          ],
          "name": "stdout"
        }
      ]
    },
    {
      "cell_type": "code",
      "metadata": {
        "id": "cEt1kpPk4T54",
        "colab_type": "code",
        "colab": {
          "base_uri": "https://localhost:8080/",
          "height": 35
        },
        "outputId": "bd58af1f-623d-497a-9173-7be6add6d681"
      },
      "source": [
        "print(len(category_lines['Korean']))"
      ],
      "execution_count": 5,
      "outputs": [
        {
          "output_type": "stream",
          "text": [
            "94\n"
          ],
          "name": "stdout"
        }
      ]
    },
    {
      "cell_type": "code",
      "metadata": {
        "id": "fUJuuPi16nGB",
        "colab_type": "code",
        "colab": {
          "base_uri": "https://localhost:8080/",
          "height": 108
        },
        "outputId": "ecb0ecf7-5037-4a83-9d70-5a8df0fb47b8"
      },
      "source": [
        "import torch\n",
        "\n",
        "# all_letters로 문자의 주소 찾기\n",
        "def letterToIndex(letter):\n",
        "  return all_letters.find(letter)\n",
        "\n",
        "# < 1 x n_letters> Tensor 변환\n",
        "def letterToTensor(letter):\n",
        "  tensor = torch.zeros(1, len(all_letters))\n",
        "  tensor[0][letterToIndex(letter)] = 1\n",
        "  return tensor\n",
        "\n",
        "# < line_length x 1 x n_letters >\n",
        "def lineToTensor(line):\n",
        "  tensor = torch.zeros(len(line), 1, len(all_letters))\n",
        "  for idx, letter in enumerate(line):\n",
        "    tensor[idx][0][letterToIndex(letter)] = 1\n",
        "  return tensor\n",
        "\n",
        "print(letterToTensor('J'))\n",
        "\n",
        "print(lineToTensor('Jones').size())"
      ],
      "execution_count": 6,
      "outputs": [
        {
          "output_type": "stream",
          "text": [
            "tensor([[0., 0., 0., 0., 0., 0., 0., 0., 0., 0., 0., 0., 0., 0., 0., 0., 0., 0.,\n",
            "         0., 0., 0., 0., 0., 0., 0., 0., 0., 0., 0., 0., 0., 0., 0., 0., 0., 1.,\n",
            "         0., 0., 0., 0., 0., 0., 0., 0., 0., 0., 0., 0., 0., 0., 0., 0., 0., 0.,\n",
            "         0., 0., 0.]])\n",
            "torch.Size([5, 1, 57])\n"
          ],
          "name": "stdout"
        }
      ]
    },
    {
      "cell_type": "code",
      "metadata": {
        "id": "_QPKLmi-6rDh",
        "colab_type": "code",
        "colab": {}
      },
      "source": [
        "import torch.nn as nn\n",
        "\n",
        "class Model(nn.Module):\n",
        "  def __init__(self, input_size, hidden_size, output_size):\n",
        "    super(Model, self).__init__()\n",
        "    \n",
        "    self.hidden_size = hidden_size\n",
        "    self.i2h = nn.Linear(input_size+hidden_size, hidden_size)\n",
        "    self.i2o = nn.Linear(input_size+hidden_size, output_size)\n",
        "    self.softmax = nn.LogSoftmax(dim=1)\n",
        "\n",
        "  def forward(self, input, hidden):\n",
        "    combined = torch.cat((input, hidden), 1)\n",
        "    hidden = self.i2h(combined)\n",
        "    output = self.i2o(combined)\n",
        "    output = self.softmax(output)\n",
        "    return output, hidden\n",
        "\n",
        "  def initHidden(self):\n",
        "    return torch.zeros(1, self.hidden_size)"
      ],
      "execution_count": 0,
      "outputs": []
    },
    {
      "cell_type": "code",
      "metadata": {
        "id": "5pSbdwRZ6_j2",
        "colab_type": "code",
        "colab": {}
      },
      "source": [
        "n_hidden = 128\n",
        "rnn = Model(len(all_letters), n_hidden, len(all_categories))"
      ],
      "execution_count": 0,
      "outputs": []
    },
    {
      "cell_type": "code",
      "metadata": {
        "id": "7go6XbPJH_aw",
        "colab_type": "code",
        "colab": {
          "base_uri": "https://localhost:8080/",
          "height": 72
        },
        "outputId": "3bba17a6-68f5-4edb-a6ce-55c8f857ef36"
      },
      "source": [
        "input = lineToTensor('Albert')\n",
        "hidden = rnn.initHidden()\n",
        "\n",
        "output, next_hidden = rnn(input[0], hidden)\n",
        "print(output)"
      ],
      "execution_count": 46,
      "outputs": [
        {
          "output_type": "stream",
          "text": [
            "tensor([[-2.9118, -2.9918, -2.8357, -2.8866, -2.8071, -2.8571, -2.7948, -2.9410,\n",
            "         -2.9591, -2.8617, -2.9326, -2.8154, -2.9722, -2.9655, -2.8596, -2.9428,\n",
            "         -2.8706, -2.8533]], grad_fn=<LogSoftmaxBackward>)\n"
          ],
          "name": "stdout"
        }
      ]
    },
    {
      "cell_type": "code",
      "metadata": {
        "id": "jNrLGaCCqSh9",
        "colab_type": "code",
        "colab": {
          "base_uri": "https://localhost:8080/",
          "height": 35
        },
        "outputId": "5d3ae5ac-d20c-42d9-dcf3-8e42e55089e1"
      },
      "source": [
        "def categoryFromOutput(output):\n",
        "  top_n, top_i = output.topk(1)\n",
        "  category_i = top_i[0].item()\n",
        "  return all_categories[category_i], category_i\n",
        "\n",
        "print(categoryFromOutput(output))"
      ],
      "execution_count": 62,
      "outputs": [
        {
          "output_type": "stream",
          "text": [
            "('Italian', 9)\n"
          ],
          "name": "stdout"
        }
      ]
    },
    {
      "cell_type": "code",
      "metadata": {
        "id": "PAwhJjfVQDzY",
        "colab_type": "code",
        "colab": {
          "base_uri": "https://localhost:8080/",
          "height": 54
        },
        "outputId": "456bd205-ba14-421b-b076-d3f22db6a8eb"
      },
      "source": [
        "print(output.max(dim=1)[0])\n",
        "print(output.max(dim=1)[1])"
      ],
      "execution_count": 48,
      "outputs": [
        {
          "output_type": "stream",
          "text": [
            "tensor([-2.7948], grad_fn=<MaxBackward0>)\n",
            "tensor([6])\n"
          ],
          "name": "stdout"
        }
      ]
    },
    {
      "cell_type": "code",
      "metadata": {
        "id": "M-lAaQGouSIY",
        "colab_type": "code",
        "colab": {
          "base_uri": "https://localhost:8080/",
          "height": 199
        },
        "outputId": "de8e0f39-dc38-4515-821b-460043e333d9"
      },
      "source": [
        "import random\n",
        "\n",
        "def randomChoice(l):\n",
        "  return l[random.randint(0, len(l) - 1)]\n",
        "\n",
        "def randomTrainingExample():\n",
        "  category = randomChoice(all_categories)\n",
        "  line = randomChoice(category_lines[category])\n",
        "  category_tensor = torch.tensor([all_categories.index(category)], dtype=torch.long)\n",
        "  line_tensor = lineToTensor(line)\n",
        "  return category, line, category_tensor, line_tensor\n",
        "\n",
        "for i in range(10):\n",
        "  category, line, category_tensor, line_tensor = randomTrainingExample()\n",
        "  print('category = ', category, '| line =', line)"
      ],
      "execution_count": 49,
      "outputs": [
        {
          "output_type": "stream",
          "text": [
            "category =  Russian | line = Hitarov\n",
            "category =  Irish | line = Connell\n",
            "category =  Russian | line = Dobriyan\n",
            "category =  Irish | line = Roach\n",
            "category =  Portuguese | line = Soares\n",
            "category =  Greek | line = Avgerinos\n",
            "category =  English | line = Elphick\n",
            "category =  Vietnamese | line = Mach\n",
            "category =  English | line = Carr\n",
            "category =  Portuguese | line = Melo\n"
          ],
          "name": "stdout"
        }
      ]
    },
    {
      "cell_type": "code",
      "metadata": {
        "id": "0slkzsfARNYW",
        "colab_type": "code",
        "colab": {}
      },
      "source": [
        "# RNN의 마지막 계층이 nn.LogSoftmax이므로 손실 함수로 nn.NLLLoss가 적합하다\n",
        "criterion = nn.NLLLoss()\n",
        "\n",
        "lr = 0.005\n",
        "\n",
        "def train(category_tensor, line_tensor):\n",
        "  hidden = rnn.initHidden()\n",
        "\n",
        "  rnn.zero_grad()\n",
        "\n",
        "  # 글자 수만큼 rnn모델에 돌린다.\n",
        "  for i in range(line_tensor.size()[0]):\n",
        "    output, hidden = rnn(line_tensor[i], hidden)\n",
        "\n",
        "  loss = criterion(output, category_tensor)\n",
        "  loss.backward()\n",
        "\n",
        "  for p in rnn.parameters():\n",
        "    p.data.add_(-lr , p.grad.data)\n",
        "\n",
        "  return output, loss.item()"
      ],
      "execution_count": 0,
      "outputs": []
    },
    {
      "cell_type": "code",
      "metadata": {
        "id": "3qar-bGIUSjn",
        "colab_type": "code",
        "colab": {
          "base_uri": "https://localhost:8080/",
          "height": 381
        },
        "outputId": "227aabf1-ae70-41f8-9f24-6efb7d5fd426"
      },
      "source": [
        "import time\n",
        "import math\n",
        "\n",
        "n_iters = 100000\n",
        "print_every = 5000\n",
        "plot_every = 1000\n",
        "\n",
        "current_loss = 0\n",
        "all_losses = []\n",
        "\n",
        "def timeSince(since):\n",
        "  now = time.time()\n",
        "  s = now - since\n",
        "  m = math.floor(s/60)\n",
        "  s -= m*60\n",
        "  return '%dm %ds' % (m, s)\n",
        "\n",
        "start = time.time()\n",
        "\n",
        "for iter in range(1, n_iters + 1):\n",
        "  category, line, category_tensor, line_tensor = randomTrainingExample()\n",
        "  output, loss = train(category_tensor, line_tensor)\n",
        "  current_loss += loss\n",
        "\n",
        "  if iter % print_every == 0:\n",
        "    guess, guess_i = categoryFromOutput(output)\n",
        "    correct = 'O' if guess == category else 'X' \n",
        "    print('%d %d%% (%s) %.4f %s / %s %s' % (iter, iter / n_iters * 100, timeSince(start), loss, \n",
        "                                            line, guess, correct))\n",
        "  \n",
        "  if iter % plot_every == 0:\n",
        "    all_losses.append(current_loss / plot_every)\n",
        "    current_loss = 0"
      ],
      "execution_count": 64,
      "outputs": [
        {
          "output_type": "stream",
          "text": [
            "5000 5% (0m 9s) 0.5826 Chu / Vietnamese O\n",
            "10000 10% (0m 18s) 0.9697 Dounias / Portuguese X\n",
            "15000 15% (0m 27s) 0.3427 Fashingbauer / German O\n",
            "20000 20% (0m 36s) 0.0040 Takishida / Japanese O\n",
            "25000 25% (0m 46s) 0.6769 Pavia / Spanish O\n",
            "30000 30% (0m 55s) 1.2820 Tian / Vietnamese X\n",
            "35000 35% (1m 4s) 0.4847 Reinder / Dutch O\n",
            "40000 40% (1m 13s) 0.3055 Hoefler / German O\n",
            "45000 45% (1m 22s) 0.2526 Middlesworth / Dutch O\n",
            "50000 50% (1m 32s) 1.4954 Abascal / Czech X\n",
            "55000 55% (1m 41s) 0.1396 Hyun  / Korean O\n",
            "60000 60% (1m 50s) 1.5084 Severins / Dutch O\n",
            "65000 65% (1m 59s) 0.2189 Tieu / Vietnamese O\n",
            "70000 70% (2m 8s) 0.0083 Assaf / Arabic O\n",
            "75000 75% (2m 17s) 0.9269 Loenko / Czech X\n",
            "80000 80% (2m 26s) 1.5370 Gage / French O\n",
            "85000 85% (2m 35s) 0.1753 Donovan / Irish O\n",
            "90000 90% (2m 44s) 1.6799 Hizhny / Scottish X\n",
            "95000 95% (2m 53s) 0.0648 Anselmi / Italian O\n",
            "100000 100% (3m 2s) 0.7672 Jang / Chinese X\n"
          ],
          "name": "stdout"
        }
      ]
    },
    {
      "cell_type": "code",
      "metadata": {
        "id": "ScepeT1FVaDl",
        "colab_type": "code",
        "colab": {
          "base_uri": "https://localhost:8080/",
          "height": 283
        },
        "outputId": "37bcdbf5-d479-43c0-c65f-d70ff41de95d"
      },
      "source": [
        "import matplotlib.pyplot as plt\n",
        "import matplotlib.ticker as ticker\n",
        "\n",
        "plt.figure()\n",
        "plt.plot(all_losses)"
      ],
      "execution_count": 65,
      "outputs": [
        {
          "output_type": "execute_result",
          "data": {
            "text/plain": [
              "[<matplotlib.lines.Line2D at 0x7f0bb5466710>]"
            ]
          },
          "metadata": {
            "tags": []
          },
          "execution_count": 65
        },
        {
          "output_type": "display_data",
          "data": {
            "image/png": "[encoded data removed]",
            "text/plain": [
              "<Figure size 432x288 with 1 Axes>"
            ]
          },
          "metadata": {
            "tags": []
          }
        }
      ]
    },
    {
      "cell_type": "code",
      "metadata": {
        "id": "wEc72dc8bqPR",
        "colab_type": "code",
        "colab": {
          "base_uri": "https://localhost:8080/",
          "height": 320
        },
        "outputId": "475de8c6-81be-4ac2-9166-4dcb27a6f0d4"
      },
      "source": [
        "confusion = torch.zeros(len(all_categories), len(all_categories))\n",
        "n_confusion = 10000\n",
        "\n",
        "def evaluate(line_tensor):\n",
        "  hidden = rnn.initHidden()\n",
        "\n",
        "  for i in range(line_tensor.size()[0]):\n",
        "    output, hidden = rnn(line_tensor[i], hidden)\n",
        "\n",
        "  return output\n",
        "\n",
        "for i in range(n_confusion):\n",
        "  category, line, category_tensor, line_tensor = randomTrainingExample()\n",
        "  output = evaluate(line_tensor)\n",
        "  guess, guess_i = categoryFromOutput(output)\n",
        "  category_i = all_categories.index(category)\n",
        "  confusion[category_i][guess_i] += 1\n",
        "\n",
        "for i in range(len(all_categories)):\n",
        "  confusion[i] = confusion[i] / confusion[i].sum()\n",
        "\n",
        "fig = plt.figure()\n",
        "ax = fig.add_subplot(111)\n",
        "cax = ax.matshow(confusion.numpy())\n",
        "fig.colorbar(cax)\n",
        "\n",
        "ax.set_xticklabels([''] + all_categories, rotation=90)\n",
        "ax.set_yticklabels([''] + all_categories)\n",
        "\n",
        "ax.xaxis.set_major_locator(ticker.MultipleLocator(1))\n",
        "ax.yaxis.set_major_locator(ticker.MultipleLocator(1))\n",
        "\n",
        "plt.show()"
      ],
      "execution_count": 66,
      "outputs": [
        {
          "output_type": "display_data",
          "data": {
            "image/png": "[encoded data removed]",
            "text/plain": [
              "<Figure size 432x288 with 2 Axes>"
            ]
          },
          "metadata": {
            "tags": []
          }
        }
      ]
    },
    {
      "cell_type": "code",
      "metadata": {
        "id": "Plvbby8JhP5D",
        "colab_type": "code",
        "colab": {
          "base_uri": "https://localhost:8080/",
          "height": 290
        },
        "outputId": "04863e80-5056-41ab-8369-fa810ee5177a"
      },
      "source": [
        "def predict(input_line, n_predictions=3):\n",
        "  print('\\n> %s' % input_line)\n",
        "  with torch.no_grad():\n",
        "    output = evaluate(lineToTensor(input_line))\n",
        "\n",
        "    topv, topi = output.topk(n_predictions, 1, True)\n",
        "    predictions = []\n",
        "\n",
        "    for i in range(n_predictions):\n",
        "      value = topv[0][i].item()\n",
        "      category_index = topi[0][i].item()\n",
        "      print('(%.2f) %s' % (value, all_categories[category_index]))\n",
        "      predictions.append([value, all_categories[category_index]])\n",
        "\n",
        "predict('Dovesky')\n",
        "predict('Jackson')\n",
        "predict('Satoshi')"
      ],
      "execution_count": 67,
      "outputs": [
        {
          "output_type": "stream",
          "text": [
            "\n",
            "> Dovesky\n",
            "(-0.74) Russian\n",
            "(-1.13) Czech\n",
            "(-2.17) English\n",
            "\n",
            "> Jackson\n",
            "(-0.43) Scottish\n",
            "(-1.21) English\n",
            "(-3.88) Russian\n",
            "\n",
            "> Satoshi\n",
            "(-0.74) Japanese\n",
            "(-1.36) Arabic\n",
            "(-1.65) Italian\n"
          ],
          "name": "stdout"
        }
      ]
    },
    {
      "cell_type": "code",
      "metadata": {
        "id": "ke5tHSWxiNLo",
        "colab_type": "code",
        "colab": {}
      },
      "source": [
        ""
      ],
      "execution_count": 0,
      "outputs": []
    }
  ]
}